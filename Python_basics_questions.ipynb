{
  "nbformat": 4,
  "nbformat_minor": 0,
  "metadata": {
    "colab": {
      "provenance": []
    },
    "kernelspec": {
      "name": "python3",
      "display_name": "Python 3"
    },
    "language_info": {
      "name": "python"
    }
  },
  "cells": [
    {
      "cell_type": "markdown",
      "source": [
        "# Python basic questions\n"
      ],
      "metadata": {
        "id": "M2ZEBZsjSusi"
      }
    },
    {
      "cell_type": "markdown",
      "source": [
        "# 1.What is Python, and why is it popular?\n",
        "  -> Python is an interpreted, object-oriented, high-level programming language with dynamic semantics developed by Guido van Rossum. It was originally released in 1991. Designed to be easy as well as fun, the name \"Python\" is a nod to the British comedy group Monty Python. Python has a reputation as a beginner-friendly language, replacing Java as the most widely used introductory language because it handles much of the complexity for the user, allowing beginners to focus on fully grasping programming concepts rather than minute details.\n",
        "  Python is popular because it's considered a very easy-to-learn language with a simple, readable syntax, making it accessible to beginners while also being versatile enough for complex applications like data analysis, web development, machine learning, and scientific computing\n",
        "  \n",
        "Key reasons for Python's popularity:\n",
        "\n",
        "  (1)**Readability**\n",
        "  Python uses English-like keywords and clear indentation, making code intuitive and easy to understand even for non-programmers.\n",
        "\n",
        "(2)**Versatility**\n",
        "Python can be used for a wide variety of tasks, from basic scripting to complex data analysis and machine learning.\n",
        "\n",
        "(3)**Large community and support**\n",
        "A large community of developers actively contributes to Python, providing ample documentation, tutorials, and libraries.\n",
        "\n",
        "(4)**Extensive standard library:**\n",
        "Python comes with a comprehensive set of built-in modules that cover many common programming tasks, reducing the need for external libraries.\n",
        "\n",
        "(5)**Open source**\n",
        "Python is freely available and open-source, allowing developers to modify and distribute the language.\n",
        "\n",
        "(6)**Platform independence:**\n",
        "Python code can run on different operating systems without significant changes.\n",
        "\n",
        "(7)**Rapid development:**\n",
        "Python's simple syntax allows for faster development cycles compared to some other languages.\n"
      ],
      "metadata": {
        "id": "TZGEuqBdT0AV"
      }
    },
    {
      "cell_type": "markdown",
      "source": [
        "# 2.What is an interpreter in Python?\n",
        "-> Python is an interpreted language developed by Guido van Rossum in the year of 1991. As we all know Python is one of the most high-level languages used today because of its massive versatility and portable library & framework features. It is an interpreted language because it executes line-by-line instructions. There are actually two way to execute python code one is in Interactive mode and another thing is having Python prompts which is also called script mode. Python does not convert high level code into low level code as many other programming languages do rather it will scan the entire code into something called bytecode. every time when Python developer runs the code and start to execute the compilation part execute first and then it generate an byte code which get converted by PVM Python Virtual machine that understand the analogy and give the desired output.\n"
      ],
      "metadata": {
        "id": "BnPoRhYhWCwQ"
      }
    },
    {
      "cell_type": "markdown",
      "source": [
        "# 3.What are pre-defined keywords in Python?\n",
        "  ->Python Keywords are some predefined and reserved words in Python that have special meanings. Keywords are used to define the syntax of the coding. The keyword cannot be used as an identifier, function, or variable name. All the keywords in Python are written in lowercase except True and False. There are 35 keywords in Python\n",
        "\n",
        "  **keywords**\n",
        "\n",
        "   (1)**And**\tThis is a logical operator which returns true if both the operands are true else returns false.\n",
        "\n",
        "   (2)**Or**\tThis is also a logical operator which returns true if anyone operand is true else returns false.\n",
        "\n",
        "   (3)**Not**\tThis is again a logical operator it returns True if the operand is false else returns false.\n",
        "\n",
        "   (4)**If**\tThis is used to make a conditional statement.\n",
        "\n",
        "   (5)**Elif**\tElif is a condition statement used with an if statement. The elif statement is executed if the previous conditions were not true.\n",
        "\n",
        "   (6)**Else**\tElse is used with if and elif conditional statements. The else block is executed if the given condition is not true.\n",
        "\n",
        "   (7)**For**\tThis is used to create a loop.\n",
        "\n",
        "   (8)**While**\tThis keyword is used to create a while loop.\n",
        "\n",
        "   (9)**Break**\tThis is used to terminate the loop.\n",
        "\n",
        "   (10)**As**\tThis is used to create an alternative.\n",
        "\n",
        "   (11)**Def**\tIt helps us to define functions.\n",
        "\n",
        "   (12)**Lambda**\tIt is used to define the anonymous function.\n",
        "\n",
        "   (13)**Pass**\tThis is a null statement which means it will do nothing.\n",
        "\n",
        "   (14)**Return**\tIt will return a value and exit the function.\n",
        "\n",
        "   (15)**True**\tThis is a boolean value.\n",
        "\n",
        "   (16)**False**\tThis is also a boolean value.\n",
        "\n",
        "   (17)**Try**\tIt makes a try-except statement.\n",
        "\n",
        "   (18)**With**\tThe with keyword is used to simplify exception handling.\n",
        "\n",
        "   (19)**Assert**\tThis function is used for debugging purposes. Usually used to check the correctness of code.\n",
        "\n",
        "   (20)**Class**\tIt helps us to define a class.\n",
        "\n",
        "   (21)**Continue**\tIt continues to the next iteration of a loop\n",
        "\n",
        "   (22)**Del**\tIt deletes a reference to an object.\n",
        "\n",
        "   (23)**Except**\tUsed with exceptions, what to do when an exception occurs.\n",
        "\n",
        "   (24)**Finally**\tFinally is used with exceptions, a block of code that will be executed no matter if there is an exception or not.\n",
        "\n",
        "   (25)**From**\tIt is used to import specific parts of any module.\n",
        "\n",
        "   (26)**Global**\tThis declares a global variable.\n",
        "\n",
        "   (27)**Import**\tThis is used to import a module.\n",
        "\n",
        "   (28)**In**\tIt’s used to check whether a value is present in a list, range, tuple, etc.\n",
        "\n",
        "   (29)**Is**\tThis is used to check if the two variables are equal or not.\n",
        "\n",
        "   (30)**None**\tThis is a special constant used to denote a null value or avoid. It’s important to remember, 0, any empty container(e.g empty list) do not compute to None.\n",
        "\n",
        "   (31)**Nonlocal**\tIt’s declared a non-local variable.\n",
        "\n",
        "   (32)**Raise**\tThis raises an exception.\n",
        "\n",
        "   (33)**Yield**\tIt ends a function and returns a generator.\n",
        "\n",
        "   (34)**Async**\tIt is used to create asynchronous coroutine.\n",
        "\n",
        "   (35)**Await**\tIt releases the flow of control back to the event loop.\n",
        "\n"
      ],
      "metadata": {
        "id": "Wt_zmsawbBjC"
      }
    },
    {
      "cell_type": "markdown",
      "source": [
        "# 4.Can keywords be used as variable names?\n",
        "  ->No, keywords cannot be used as variable names in programming languages; they are reserved words with specific meanings in the language syntax and cannot be used as identifiers for variables\n",
        "  "
      ],
      "metadata": {
        "id": "1USQTfSImTOn"
      }
    },
    {
      "cell_type": "markdown",
      "source": [
        "# 5.What is mutability in Python?\n",
        "  ->In Python, mutability refers to the ability of an object to be changed after it is created.\n",
        "Key Points:\n",
        "\n",
        "**• Mutable objects:** These objects can be modified directly. This means you can change their internal state or contents without creating a new object. Examples include:\n",
        "\t• Lists\n",
        "\t• Dictionaries\n",
        "\t• Sets\n",
        "  \n"
      ],
      "metadata": {
        "id": "fGd2vricnJxW"
      }
    },
    {
      "cell_type": "markdown",
      "source": [
        "# 6.Why are lists mutable, but tuples are immutable?\n",
        "  ->In Python, lists are considered mutable because they can be changed after creation, meaning you can add, remove, or modify elements within a list, while tuples are immutable, meaning once created, their contents cannot be altered; this design choice allows tuples to be used for data that should remain constant, while lists are better suited for situations where data needs to be dynamically modified.\n",
        "\n",
        "\n",
        "Key points about mutability and immutability:\n",
        "\n",
        "  **Mutable (lists):** Can be changed directly after creation.\n",
        "\n",
        "  **Immutable (tuples):** Cannot be changed after creation, attempting to modify a tuple will result in an error.\n",
        "\n"
      ],
      "metadata": {
        "id": "XYqQsKanoPgm"
      }
    },
    {
      "cell_type": "markdown",
      "source": [
        "# 7.What is the difference between “==” and “is” operators in Python?\n",
        "   ->In Python, == and is operators are both used for comparison but they serve different purposes. The == operator checks for equality of values which means it evaluates whether the values of two objects are the same. On the other hand, is operator checks for identity, meaning it determines whether two variables point to the same object in memory.\n",
        "\n",
        "\n",
        "Key Differences:\n",
        "\n",
        "  **Focus:**\n",
        "   == focuses on the content of the objects, while is focuses on their memory address.\n",
        "\n",
        "   **Use Case:**\n",
        "   Use == for comparing values and is for checking if two variables reference the same object.\n",
        "\n",
        "   **Performance:**\n",
        "is can be slightly faster than == because it only checks memory addresses, but this difference is usually negligible."
      ],
      "metadata": {
        "id": "bxhq0UO1wg3d"
      }
    },
    {
      "cell_type": "markdown",
      "source": [
        "# 8.What are logical operators in Python?\n",
        "  ->Python logical operators are used to combine conditional statements, allowing you to perform operations based on multiple conditions. These Python operators, alongside arithmetic operators, are special symbols used to carry out computations on values and variables.\n",
        "\n",
        "  *Logical operators are used to combine conditional statements:*\n",
        "\n",
        "  **operator**\n",
        "   1. And-> Returns True if both statements are true\n",
        "                                 *example* ->\tx < 5 and  x < 10\n",
        "   2.Or  -> Returns True if one of the statements is true   \n",
        "                                 *example* -> x < 5 or x < 4  \n",
        "\n",
        "   3.Not -> Reverse the result, returns False if the result is true\n",
        "                                 *example* ->  not(x < 5 and x < 10)"
      ],
      "metadata": {
        "id": "1yUHAIRwyFMv"
      }
    },
    {
      "cell_type": "markdown",
      "source": [
        "# 9.What is type casting in Python?\n",
        "  ->Type Casting is the method to convert the Python variable datatype into a certain data type in order to perform the required operation by users. In this article, we will see the various techniques for typecasting. There can be two types of Type Casting in Python:\n",
        "\n",
        "  ->*Python Implicit Type Conversion*\n",
        "  \n",
        "  ->*Python Explicit Type Conversion*\n",
        "\n",
        "  **Implicit Type Conversion in Python**\n",
        "\n",
        "In this, method, Python converts the datatype into another datatype automatically. Users don’t have to involve in this process.\n",
        "**Example** =>\n",
        "# Python automatically converts\n",
        "# a to int\n",
        "a = 7\n",
        "print(type(a))\n",
        "\n",
        "# Python automatically converts\n",
        "# b to float\n",
        "b = 3.0\n",
        "print(type(b))\n",
        "\n",
        "**Explicit Type Conversion in Python**\n",
        "\n",
        "In this method, Python needs user involvement to convert the variable data type into the required data type.\n",
        "\n",
        "**Examples of Type Casting in Python**\n",
        "\n",
        "Mainly type casting can be done with these data type functions:\n",
        "\n",
        "\n",
        "1.*Int*\n",
        "\n",
        "2.*Float*\n",
        "\n",
        "3.*str*\n",
        "\n",
        "\n",
        "1.**Python Convert Int to Float**\n",
        "\n",
        "# int variable\n",
        "a = 5.9\n",
        "\n",
        "# typecast to int\n",
        "n = int(a)\n",
        "\n",
        "print(n)\n",
        "print(type(n))\n",
        "\n",
        "  ->5\n",
        "<class 'int'>\n",
        "\n",
        "2.**Python Convert int to String**\n",
        "\n",
        "Here, we are Converting int to String datatype in Python with str() function.\n",
        "\n",
        "# int variable\n",
        "a = 5\n",
        "\n",
        "# typecast to str\n",
        "n = str(a)\n",
        "\n",
        "print(n)\n",
        "print(type(n))\n",
        "   \n",
        "   ->5\n",
        "<class 'str'>\n",
        "\n",
        "3.**Python Convert String to float**\n",
        "\n",
        "Here, we are casting string data type into float data type with float() function.\n",
        "\n",
        "# string variable\n",
        "a = \"5.9\"\n",
        "\n",
        "# typecast to float\n",
        "n = float(a)\n",
        "\n",
        "print(n)\n",
        "print(type(n))\n",
        "  \n",
        "  ->5.9\n",
        "<class 'float'>\n",
        "\n",
        "\n",
        "\n"
      ],
      "metadata": {
        "id": "2edQFRgU4oyY"
      }
    },
    {
      "cell_type": "markdown",
      "source": [
        "# 10.What is the difference between implicit and explicit type?\n",
        "\n",
        "  ->\n",
        "The main difference between implicit and explicit type casting is that implicit type casting is automatic, while explicit type casting is done manually:\n",
        "\n",
        "  **Implicit type casting**\n",
        "\n",
        "In implicit type casting, the programming language automatically converts data from one type to another if needed. For example, if you have an integer variable and you try to assign it to a float variable, the programming language will automatically convert the integer to a float without you having to do anything.\n",
        "\n",
        "Advantages:\n",
        "\n",
        "    Convenience: Implicit casting saves time and effort because you don't have to manually convert data types.\n",
        "    Automatic: It happens automatically, reducing the chance of errors due to forgetting to convert types.\n",
        "\n",
        "Disadvantages:\n",
        "\n",
        "    Loss of Precision: Sometimes, when converting between data types, there can be a loss of precision. For example, converting from a float to an integer may result in losing the decimal part of the number.\n",
        "    Unexpected Results: Implicit casting can sometimes lead to unexpected results if the programmer is not aware of how the conversion rules work.\n",
        "\n",
        "\n",
        "  **Explicit type casting**\n",
        "\n",
        "  Explicit type casting, also known as type conversion or type coercion, occurs when the programmer explicitly converts a value from one data type to another. Unlike implicit type casting, explicit type casting requires the programmer to specify the desired data type conversion.\n",
        "\n",
        "  Advantages:\n",
        "\n",
        "    Control: Explicit type casting gives the programmer more control over the conversion process, allowing for precise manipulation of data types.\n",
        "    Clarity: By explicitly indicating the type conversion, the code becomes more readable and understandable to other developers.\n",
        "    Avoidance of Loss of Precision: In cases where precision is crucial, explicit type casting allows the programmer to handle the conversion carefully to avoid loss of precision.\n",
        "\n",
        "Disadvantages:\n",
        "\n",
        "    Complexity: Explicit type casting can introduce complexity to the code, especially when dealing with multiple data type conversions.\n",
        "    Potential Errors: If the programmer incorrectly performs explicit type casting, it may result in runtime errors or unexpected behavior.\n",
        "    Additional Syntax: Explicit type casting requires additional syntax or function calls, which may increase code verbosity.\n",
        "\n",
        "\n",
        "  \n"
      ],
      "metadata": {
        "id": "F9b13_jyI_uV"
      }
    },
    {
      "cell_type": "markdown",
      "source": [
        "# 11.What is the purpose of conditional statements in Python?\n",
        "\n",
        "Conditional statements in Python allow you to control the flow of your program based on certain conditions. They help you make decisions in your code, executing different blocks of code depending on whether a condition is true or false.\n",
        "Here's a breakdown of the main conditional statements:\n",
        "\n",
        " **if statement**\n",
        "  \n",
        "   The most basic conditional statement. It executes a block of code only if the specified condition is true.\n",
        "\n",
        "**else statement**\n",
        "\n",
        "  Used in conjunction with an if statement. It executes a block of code if the if condition is false.\n",
        "\n",
        "**elif statement**\n",
        "\n",
        "  Short for \"else if\". It allows you to check multiple conditions in sequence. If the first if condition is false, it checks the next elif condition, and so on.\n",
        "\n",
        "  *example*=>age = 20\n",
        "\n",
        "if age < 18:\n",
        "\n",
        "    print(\"You are a minor.\")\n",
        "elif age >= 18 and age < 65:\n",
        "\n",
        "    print(\"You are an adult.\")\n",
        "else:\n",
        "\n",
        "    print(\"You are a senior citizen.\")"
      ],
      "metadata": {
        "id": "Lmp0sPf0MyrR"
      }
    },
    {
      "cell_type": "markdown",
      "source": [
        "# 12.How does the elif statement work?\n",
        "\n",
        "The elif statement in Python, short for \"else if\", is a conditional statement that allows you to check multiple conditions in sequence. It's used when you have more than one condition to check and want to execute different code blocks based on the conditions.\n",
        "\n",
        "**Here's how the elif statement works:**\n",
        "\n",
        "    If the first condition is false, the program moves on to the next elif statement to check if that condition is true.\n",
        "    If none of the conditions are true, the program executes the else statement.\n",
        "\n",
        "  **Here's an example of using elif in Python:**\n",
        "num = 10\n",
        "if num > 0:\n",
        "\n",
        "    print(\"Number is positive\")\n",
        "elif num == 0:\n",
        "\n",
        "    print(\"Number is zero\")\n",
        "else:\n",
        "\n",
        "    print(\"Number is negative\")\n"
      ],
      "metadata": {
        "id": "48Tpy2XnPJzF"
      }
    },
    {
      "cell_type": "markdown",
      "source": [
        "# 13.What is the difference between for and while loops?\n",
        "\n",
        "The main difference between a for loop and a while loop is that a for loop is used when the number of iterations is known, while a while loop is used when the number of iterations is unknown:\n",
        "\n",
        "  **For loop**\n",
        "\n",
        "Used when the number of times a block of code needs to be executed is known. For example, to check the grade of every student in a class, you can loop from 1 to the number of students. For loops are followed by initialization, expression, and increment statements.\n",
        "\n",
        "**While loop**\n",
        "\n",
        "Used when the number of times a block of code needs to be executed is unknown. For example, to ask a user for a number between 1 and 10, you can use a while loop to keep asking until the user enters a number between 1 and 10. While loops execute a block of code as long as a specified condition is true. It's important to make sure that the condition eventually becomes false, otherwise the loop will run indefinitely"
      ],
      "metadata": {
        "id": "71WrQvjdQu0_"
      }
    },
    {
      "cell_type": "markdown",
      "source": [
        "# 14 Describe a scenario where a while loop is more suitable than a for loop?\n",
        "\n",
        "A while loop is more suitable than a for loop when you don't know in advance how many times the loop needs to run and instead want the loop to continue iterating until a specific condition is met, which may change dynamically during the execution of the loop.\n",
        "\n",
        "\n",
        "**Example Scenario:**\n",
        "\n",
        "  User input validation: If you want to keep asking a user for input until they provide a valid value, a while loop is ideal. You can check if the input is valid within the loop condition, and only exit when the user provides the correct data.\n",
        "\n",
        "  valid_input = False\n",
        "\n",
        "while not valid_input:\n",
        "\n",
        "    user_age = input(\"Enter your age: \")\n",
        "\n",
        "    if user_age.isdigit() and int(user_age) > 0:\n",
        "\n",
        "        valid_input = True\n",
        "\n",
        "    else:\n",
        "\n",
        "        print(\"Invalid input. Please enter a positive number.\")\n"
      ],
      "metadata": {
        "id": "C3IJUURIRT7T"
      }
    }
  ]
}